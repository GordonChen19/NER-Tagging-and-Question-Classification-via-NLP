{
 "cells": [
  {
   "cell_type": "markdown",
   "metadata": {},
   "source": [
    "# Question 1. Sequence Tagging: NER"
   ]
  },
  {
   "cell_type": "code",
   "execution_count": null,
   "metadata": {
    "colab": {
     "base_uri": "https://localhost:8080/"
    },
    "id": "vsCGGYu-JLkt",
    "outputId": "0277edf2-56ee-4678-a7d1-5eac9befe221"
   },
   "outputs": [
    {
     "name": "stdout",
     "output_type": "stream",
     "text": [
      "Drive already mounted at /content/drive; to attempt to forcibly remount, call drive.mount(\"/content/drive\", force_remount=True).\n"
     ]
    }
   ],
   "source": [
    "from google.colab import drive\n",
    "drive.mount(\"/content/drive\")"
   ]
  },
  {
   "cell_type": "code",
   "execution_count": null,
   "metadata": {
    "colab": {
     "base_uri": "https://localhost:8080/"
    },
    "id": "vhncx65Ido0y",
    "outputId": "18df5ce1-f410-4801-c60a-95f518ab0816"
   },
   "outputs": [
    {
     "name": "stdout",
     "output_type": "stream",
     "text": [
      "Requirement already satisfied: gensim in /usr/local/lib/python3.10/dist-packages (4.3.2)\n",
      "Requirement already satisfied: numpy>=1.18.5 in /usr/local/lib/python3.10/dist-packages (from gensim) (1.23.5)\n",
      "Requirement already satisfied: scipy>=1.7.0 in /usr/local/lib/python3.10/dist-packages (from gensim) (1.11.3)\n",
      "Requirement already satisfied: smart-open>=1.8.1 in /usr/local/lib/python3.10/dist-packages (from gensim) (6.4.0)\n"
     ]
    }
   ],
   "source": [
    "!pip install --upgrade gensim"
   ]
  },
  {
   "cell_type": "code",
   "execution_count": null,
   "metadata": {
    "id": "9OlIhoW4vrEz"
   },
   "outputs": [],
   "source": [
    "import gensim.downloader\n",
    "import os\n",
    "\n",
    "os.chdir(\"..\")"
   ]
  },
  {
   "cell_type": "code",
   "execution_count": null,
   "metadata": {
    "id": "0UxIrzzxxCu-"
   },
   "outputs": [],
   "source": [
    "w2v = gensim.downloader.load('word2vec-google-news-300')"
   ]
  },
  {
   "cell_type": "code",
   "execution_count": null,
   "metadata": {
    "colab": {
     "base_uri": "https://localhost:8080/"
    },
    "id": "Pz9vnms5r75h",
    "outputId": "4e534f2a-a40c-4ade-fc08-3c643c16b445"
   },
   "outputs": [
    {
     "name": "stdout",
     "output_type": "stream",
     "text": [
      "3000000\n"
     ]
    }
   ],
   "source": [
    "print(len(w2v))"
   ]
  },
  {
   "cell_type": "markdown",
   "metadata": {
    "id": "Qe580KAqz4f9"
   },
   "source": [
    "# Query the most similar vector\n"
   ]
  },
  {
   "cell_type": "code",
   "execution_count": null,
   "metadata": {
    "colab": {
     "base_uri": "https://localhost:8080/"
    },
    "id": "j8egMwJi7q7V",
    "outputId": "4b680a22-4b03-49a7-fd76-37a1b0812c6b"
   },
   "outputs": [
    {
     "name": "stdout",
     "output_type": "stream",
     "text": [
      "student:  students, 0.729\n",
      "Apple:  Apple_AAPL, 0.746\n",
      "apple:  apples, 0.720\n"
     ]
    }
   ],
   "source": [
    "words = [\"student\", \"Apple\", \"apple\"]\n",
    "\n",
    "for w in words:\n",
    "    most_sim_w, score = w2v.most_similar(positive= [w])[0]\n",
    "    print(f\"{w}:  {most_sim_w}, {score:.3f}\")"
   ]
  },
  {
   "cell_type": "markdown",
   "metadata": {
    "id": "2244o3tEF9rW"
   },
   "source": [
    "# Donwload dataset"
   ]
  },
  {
   "cell_type": "code",
   "execution_count": null,
   "metadata": {
    "colab": {
     "base_uri": "https://localhost:8080/"
    },
    "id": "chBpBd-DGA5D",
    "outputId": "67931306-42e3-45cb-98af-737067fd5d19"
   },
   "outputs": [
    {
     "name": "stdout",
     "output_type": "stream",
     "text": [
      "Requirement already satisfied: wget in /usr/local/lib/python3.10/dist-packages (3.2)\n"
     ]
    }
   ],
   "source": [
    "!pip install wget"
   ]
  },
  {
   "cell_type": "code",
   "execution_count": null,
   "metadata": {
    "id": "Y7NSvzgxHEso"
   },
   "outputs": [],
   "source": [
    "import wget"
   ]
  },
  {
   "cell_type": "code",
   "execution_count": null,
   "metadata": {
    "colab": {
     "base_uri": "https://localhost:8080/"
    },
    "id": "JYGBOxg_HGTR",
    "outputId": "58db327e-d905-4c21-9092-03525fe3013f"
   },
   "outputs": [
    {
     "name": "stdout",
     "output_type": "stream",
     "text": [
      "eng.train already exists. Skipping\n",
      "eng.testa already exists. Skipping\n",
      "eng.testb already exists. Skipping\n"
     ]
    }
   ],
   "source": [
    "# Question 1.2 Download\n",
    "\n",
    "conll_raw_url = \"https://raw.githubusercontent.com/TheAnig/NER-LSTM-CNN-Pytorch/master/data/\"\n",
    "filenames = [\"eng.train\", \"eng.testa\", \"eng.testb\"]\n",
    "\n",
    "urls = {(f, f\"{conll_raw_url}/{f}\") for f in filenames}\n",
    "\n",
    "for fn, url in urls:\n",
    "    save_path = f\"/content/drive/MyDrive/NLPdataset/{fn}\"\n",
    "\n",
    "    if os.path.exists(save_path):\n",
    "        print(f\"{fn} already exists. Skipping\")\n",
    "        continue\n",
    "    wget.download(url, save_path)"
   ]
  },
  {
   "cell_type": "markdown",
   "metadata": {
    "id": "a75ajFCmeRsM"
   },
   "source": [
    "# Partition Dataset into training, development and test sets"
   ]
  },
  {
   "cell_type": "code",
   "execution_count": null,
   "metadata": {
    "colab": {
     "base_uri": "https://localhost:8080/"
    },
    "id": "3qmxfDnyJKrc",
    "outputId": "652b7e02-4fee-456d-b779-8481a682b644"
   },
   "outputs": [
    {
     "name": "stdout",
     "output_type": "stream",
     "text": [
      "trainset (No. sentences): 14987\n",
      "developmentset (No. sentences): 3466\n",
      "testset (No. sentences): 3684\n",
      "tags in training set are ['I-ORG', 'O', 'I-MISC', 'I-PER', 'I-LOC', 'B-LOC', 'B-MISC', 'B-ORG']\n",
      "tags in development set are ['O', 'I-ORG', 'I-LOC', 'I-MISC', 'I-PER', 'B-MISC']\n",
      "tags in testing set are ['O', 'I-LOC', 'I-PER', 'I-MISC', 'I-ORG', 'B-ORG', 'B-MISC', 'B-LOC']\n",
      "complete set of tags: {'O', 'B-ORG', 'B-LOC', 'I-MISC', 'I-LOC', 'I-ORG', 'B-MISC', 'I-PER'}\n"
     ]
    }
   ],
   "source": [
    "# File has one line\n",
    "\n",
    "# First column is the word\n",
    "# Second is POS tag\n",
    "# Third is Consistuency parsing tag\n",
    "# Fourth is NER tag\n",
    "\n",
    "# The NER tagging column\n",
    "\n",
    "\n",
    "root = '/content/drive/MyDrive/NLPdataset/'\n",
    "\n",
    "# Returns a 3 dim array of sentences x words x (word_value, word_category)\n",
    "def process_sets(filepath):\n",
    "    raw = open(filepath)\n",
    "    fin, curr = [], []\n",
    "    tags = []\n",
    "\n",
    "    for r in raw:\n",
    "        if r == \"\\n\":\n",
    "            fin.append(curr)\n",
    "            curr = []\n",
    "            continue\n",
    "        elif 'DOCSTART' in r:# Some files have these which are used to divide sentences\n",
    "          continue\n",
    "        else:\n",
    "          r = r[:-1].split()\n",
    "\n",
    "        if(len(r)!=4):\n",
    "          print(r)\n",
    "        curr.append([r[0],r[3]]) #Extract first and last column (NER Tag)\n",
    "        if r[3] not in tags:\n",
    "          tags.append(r[3])\n",
    "\n",
    "\n",
    "    fin.append(curr)\n",
    "    return fin,tags\n",
    "\n",
    "trainset,traintags = process_sets(root+ \"eng.train\")\n",
    "devset, devtags= process_sets(root +\"eng.testa\")   # aka validation set\n",
    "testset, testtags = process_sets(root +\"eng.testb\")\n",
    "\n",
    "print (f'trainset (No. sentences): {len(trainset)}')\n",
    "print (f'developmentset (No. sentences): {len(devset)}')\n",
    "print (f'testset (No. sentences): {len(testset)}')\n",
    "\n",
    "print(f'tags in training set are {traintags}')\n",
    "print(f'tags in development set are {devtags}')\n",
    "print(f'tags in testing set are {testtags}')\n",
    "print(f'complete set of tags: {set(traintags+devtags+testtags)}')"
   ]
  },
  {
   "cell_type": "markdown",
   "metadata": {
    "id": "YbqvO-KcfF2H"
   },
   "source": [
    "# Example sentence"
   ]
  },
  {
   "cell_type": "code",
   "execution_count": null,
   "metadata": {
    "id": "nO-ov1NI2kg_"
   },
   "outputs": [],
   "source": [
    "def joinString(entity, joinentity):\n",
    "    if(entity==\"\"):\n",
    "        return joinentity\n",
    "    elif(joinentity[0]==\"'\"):\n",
    "        return entity + joinentity\n",
    "\n",
    "    else:\n",
    "        return entity + \" \" + joinentity\n",
    "\n",
    "\n",
    "def getSentence():\n",
    "    for sentence in trainset:\n",
    "        named_entities = []\n",
    "        previous_word = ''\n",
    "        counter = 0 #Number of entities with more than one word\n",
    "        current_tag = None #B,I,O\n",
    "        entity_tag = None #e.g. PER, LOC, MISC\n",
    "        word_length = 0\n",
    "        for i,word in enumerate(sentence):\n",
    "            if word[1]=='O': #If this is not an entity\n",
    "                current_tag=None\n",
    "                if word_length>1:\n",
    "                    counter+=1\n",
    "                if previous_word!='':\n",
    "                    named_entities.append(previous_word)\n",
    "                previous_word=''\n",
    "                word_length=0\n",
    "            else:\n",
    "                if current_tag is None: #If the current named entity succeeds a 'O' or is the first word of the sentence\n",
    "                    current_tag,entity_tag = word[1].split('-')\n",
    "                    previous_word=joinString(previous_word,word[0])\n",
    "                    word_length=1\n",
    "\n",
    "                else:\n",
    "                    tmp_tag,tmp_type = word[1].split('-')\n",
    "                    if tmp_tag == 'B' or tmp_type!=entity_tag: #Beginning of a new named entity\n",
    "                        if word_length>1:\n",
    "                            counter+=1\n",
    "                        named_entities.append(previous_word)\n",
    "                        previous_word=''\n",
    "                        word_length=0\n",
    "                        current_tag,entitiy_tag=word[1].split('-')\n",
    "                    else: #Continuation of the previous entity\n",
    "                        previous_word=joinString(previous_word,word[0])\n",
    "                        current_tag=tmp_tag\n",
    "                        word_length+=1\n",
    "\n",
    "                    if i == len(sentence)-1 and previous_word!='':\n",
    "                        if(word_length>1):\n",
    "                            counter+=1\n",
    "                        named_entities.append(previous_word)\n",
    "\n",
    "        if counter>2:\n",
    "            return named_entities,sentence\n",
    "\n",
    "\n"
   ]
  },
  {
   "cell_type": "code",
   "execution_count": null,
   "metadata": {
    "colab": {
     "base_uri": "https://localhost:8080/"
    },
    "id": "yK6zrjsbg_lb",
    "outputId": "3155ad87-4f13-47b1-d2d4-ea4d62346bef"
   },
   "outputs": [
    {
     "name": "stdout",
     "output_type": "stream",
     "text": [
      "['Germany', \"Welsh National Farmers' Union\", 'NFU', 'John Lloyd Jones', 'BBC radio']\n",
      "\" What we have to be extremely careful of is how other countries are going to take Germany's lead , \" Welsh National Farmers' Union ( NFU ) chairman John Lloyd Jones said on BBC radio .\n",
      "[['\"', 'O'], ['What', 'O'], ['we', 'O'], ['have', 'O'], ['to', 'O'], ['be', 'O'], ['extremely', 'O'], ['careful', 'O'], ['of', 'O'], ['is', 'O'], ['how', 'O'], ['other', 'O'], ['countries', 'O'], ['are', 'O'], ['going', 'O'], ['to', 'O'], ['take', 'O'], ['Germany', 'I-LOC'], [\"'s\", 'O'], ['lead', 'O'], [',', 'O'], ['\"', 'O'], ['Welsh', 'I-ORG'], ['National', 'I-ORG'], ['Farmers', 'I-ORG'], [\"'\", 'I-ORG'], ['Union', 'I-ORG'], ['(', 'O'], ['NFU', 'I-ORG'], [')', 'O'], ['chairman', 'O'], ['John', 'I-PER'], ['Lloyd', 'I-PER'], ['Jones', 'I-PER'], ['said', 'O'], ['on', 'O'], ['BBC', 'I-ORG'], ['radio', 'I-ORG'], ['.', 'O']]\n"
     ]
    }
   ],
   "source": [
    "entities, sentence_tags = getSentence()\n",
    "\n",
    "sentenceString = \"\"\n",
    "for word in sentence_tags:\n",
    "    sentenceString=joinString(sentenceString,word[0])\n",
    "\n",
    "print(entities)\n",
    "print(sentenceString)\n",
    "print(sentence_tags)\n"
   ]
  },
  {
   "cell_type": "markdown",
   "metadata": {
    "id": "kmWItuCWYDWF"
   },
   "source": [
    "# Out of vocabulary word preprocessing\n"
   ]
  },
  {
   "cell_type": "code",
   "execution_count": null,
   "metadata": {
    "id": "QH51CeCQbYae"
   },
   "outputs": [],
   "source": [
    "# function to get all words not in the word2vec model\n",
    "def get_words_not_in_model(set, w2v):\n",
    "    abs_w2v = [] # array to store words that are not in the word2vec model\n",
    "    abs_w2v_lower = [] # array to store words that are not in the word2vec model, but are in lower case\n",
    "    for sentences in set:\n",
    "        for word, type in sentences:\n",
    "            if word not in w2v.key_to_index:\n",
    "                #print(word)\n",
    "                abs_w2v.append(word)\n",
    "                if word.lower() not in w2v.key_to_index:\n",
    "                    abs_w2v_lower.append(word.lower())\n",
    "    return abs_w2v, abs_w2v_lower"
   ]
  },
  {
   "cell_type": "code",
   "execution_count": null,
   "metadata": {
    "id": "8_QvwFbfbcr5"
   },
   "outputs": [],
   "source": [
    "\n",
    "# function to remove words that are puncutation, numbers, or special characters\n",
    "def remove_punc_num_special(s):\n",
    "    clean_set = []\n",
    "    for sentence in s:\n",
    "        clean_sentence = []\n",
    "        for word, tag in sentence:\n",
    "            if any(c.isalpha() for c in word):\n",
    "                clean_sentence.append([word, tag])\n",
    "        clean_set.append(clean_sentence)\n",
    "    return clean_set\n"
   ]
  },
  {
   "cell_type": "code",
   "execution_count": null,
   "metadata": {
    "id": "uynylU3_mn1L"
   },
   "outputs": [],
   "source": [
    "def word_stemming(s,w2v):\n",
    "    ps = PorterStemmer()\n",
    "    stemmed_sentences=[]\n",
    "    for sentence in s:\n",
    "        stemmed_sentence=[]\n",
    "        for word, tag in sentence:\n",
    "            if (word not in w2v.key_to_index and  ps.stem(word) in w2v.key_to_index):\n",
    "                stemmed_sentence.append([ps.stem(word),tag])\n",
    "            else:\n",
    "                stemmed_sentence.append([word,tag])\n",
    "        stemmed_sentences.append(stemmed_sentence)\n",
    "    return stemmed_sentences"
   ]
  },
  {
   "cell_type": "code",
   "execution_count": null,
   "metadata": {
    "id": "Dd7zWWCEtNrd"
   },
   "outputs": [],
   "source": [
    "def remove_stop_words(s): #Try subword embedding first\n",
    "    stop_words=['of','a','and','to',\"'s\"]\n",
    "    stopless_sentences=[]\n",
    "    for sentence in s:\n",
    "        stopless_sentence=[]\n",
    "        for word,tag in sentence:\n",
    "            if word not in stop_words:\n",
    "                stopless_sentence.append([word,tag])\n",
    "\n",
    "        stopless_sentences.append(stopless_sentence)\n",
    "    return stopless_sentences\n",
    "\n"
   ]
  },
  {
   "cell_type": "code",
   "execution_count": null,
   "metadata": {
    "id": "_tOrD3Crq60i"
   },
   "outputs": [],
   "source": [
    "def hyphen_seperation(s,w2v):\n",
    "    seperated_sentences=[]\n",
    "    for sentence in s:\n",
    "        seperated_sentence=[]\n",
    "        for word,tag in sentence:\n",
    "            array_of_words = word.split('-')\n",
    "            for individual_word in array_of_words:\n",
    "                seperated_sentence.append([individual_word,tag])\n",
    "        seperated_sentences.append(seperated_sentence)\n",
    "    return seperated_sentences"
   ]
  },
  {
   "cell_type": "code",
   "execution_count": null,
   "metadata": {
    "colab": {
     "base_uri": "https://localhost:8080/"
    },
    "id": "QU04NuJbctPA",
    "outputId": "da9e06aa-6042-41e1-d273-570777fa3b1b"
   },
   "outputs": [
    {
     "name": "stdout",
     "output_type": "stream",
     "text": [
      "83402 83322\n"
     ]
    }
   ],
   "source": [
    "# check number of words not in word2vec model\n",
    "fullset = trainset + devset + testset\n",
    "abs_w2v, abs_w2v_lower = get_words_not_in_model(fullset, w2v)\n",
    "print(len(abs_w2v), len(abs_w2v_lower))"
   ]
  },
  {
   "cell_type": "markdown",
   "metadata": {
    "id": "w8K37mrRO4l3"
   },
   "source": [
    "# Dataset Loading"
   ]
  },
  {
   "cell_type": "code",
   "execution_count": null,
   "metadata": {
    "id": "D-iubbQhO68G"
   },
   "outputs": [],
   "source": [
    "import torch\n",
    "from torch.utils.data import Dataset, DataLoader, TensorDataset\n",
    "from tqdm import tqdm\n",
    "import time\n",
    "import os\n",
    "import random\n",
    "import numpy as np\n",
    "import string\n"
   ]
  },
  {
   "cell_type": "code",
   "execution_count": null,
   "metadata": {
    "id": "1XuOB4rLEAyV"
   },
   "outputs": [],
   "source": [
    "# takes in a set of sentences in the form of a list of lists of tuples, and\n",
    "# returns a list of list of words and tags\n",
    "def separate_words_tags(set):\n",
    "    sentences = []\n",
    "    labels = []\n",
    "\n",
    "    for sentence in set:\n",
    "        current_sentence = []\n",
    "        current_label = []\n",
    "        for word, tag in sentence:\n",
    "            current_sentence.append(word)\n",
    "            current_label.append(tag)\n",
    "        sentences.append(current_sentence)\n",
    "        labels.append(current_label)\n",
    "    return sentences, labels\n",
    "\n",
    "# class to create a dataset for the NER task\n",
    "class NERDataset(Dataset):\n",
    "    def __init__(self, sentences, labels, word_to_ix, tag_to_ix):\n",
    "        self.sentences = sentences\n",
    "        self.labels = labels\n",
    "        self.word_to_ix = word_to_ix\n",
    "        self.tag_to_ix = tag_to_ix\n",
    "\n",
    "    def __len__(self):\n",
    "        return len(self.sentences)\n",
    "\n",
    "    def __getitem__(self, index):\n",
    "        sentence = self.sentences[index]\n",
    "        label = self.labels[index]\n",
    "        original_length = len(sentence)\n",
    "\n",
    "        sentence = [self.word_to_ix.get(word, 3000000) for word in sentence] # 3000000 is the index for <UNK>\n",
    "        label = [self.tag_to_ix[tag] for tag in label]\n",
    "\n",
    "        return torch.tensor(sentence, dtype=torch.long), torch.tensor(label, dtype=torch.long), original_length\n",
    "\n",
    "\n",
    "# function to pad the sequences in a batch\n",
    "def pad_collate(batch):\n",
    "    (xx, yy, lens) = zip(*batch)  # unzip the batch\n",
    "\n",
    "    x_lens = [len(x) for x in xx]  # get lengths of sequences\n",
    "    y_lens = [len(y) for y in yy]  # get lengths of labels\n",
    "\n",
    "    max_x_len = max(x_lens)\n",
    "    max_y_len = max(y_lens)\n",
    "\n",
    "    xx_pad = torch.full((len(xx), max_x_len), 3000000, dtype=torch.long)  # create a matrix filled with 3000000\n",
    "    yy_pad = torch.zeros(len(yy), max_y_len, dtype=torch.long)  # create a matrix of zeros with correct dimensions\n",
    "\n",
    "    for i, (x, y) in enumerate(zip(xx, yy)):\n",
    "        xx_pad[i, :x_lens[i]] = x\n",
    "        yy_pad[i, :y_lens[i]] = y\n",
    "\n",
    "    return xx_pad, yy_pad, lens\n"
   ]
  },
  {
   "cell_type": "code",
   "execution_count": null,
   "metadata": {
    "colab": {
     "base_uri": "https://localhost:8080/"
    },
    "id": "87C0jiowmJVE",
    "outputId": "0e928d7d-94a3-4b5f-efa5-2dd440781bc0"
   },
   "outputs": [
    {
     "name": "stdout",
     "output_type": "stream",
     "text": [
      "3698 3672\n",
      "2529 2513\n",
      "604 599\n",
      "565 560\n"
     ]
    }
   ],
   "source": [
    "# clean dataset by removing meaningless words\n",
    "import nltk\n",
    "from nltk.stem import PorterStemmer\n",
    "\n",
    "fullset = remove_punc_num_special(fullset) #Remove punctuation, special characters and numbers\n",
    "fullset = hyphen_seperation(fullset,w2v) #Address hyphen separated words\n",
    "fullset = word_stemming(fullset,w2v) #Porter Stemmer\n",
    "fullset = remove_stop_words(fullset) #Remove stop words\n",
    "abs_w2v, abs_w2v_lower = get_words_not_in_model(fullset, w2v)\n",
    "print(len(abs_w2v), len(abs_w2v_lower))\n",
    "\n",
    "#Trainset Transformation\n",
    "trainset = remove_punc_num_special(trainset) #Remove punctuation, special characters and numbers\n",
    "trainset = hyphen_seperation(trainset,w2v) #Address hyphen separated words\n",
    "trainset = word_stemming(trainset,w2v) #Porter Stemmer\n",
    "trainset = remove_stop_words(trainset) #Remove stop words\n",
    "abs_w2v, abs_w2v_lower = get_words_not_in_model(trainset, w2v)\n",
    "print(len(abs_w2v), len(abs_w2v_lower))\n",
    "\n",
    "#Validation set transformation\n",
    "devset = remove_punc_num_special(devset) #Remove punctuation, special characters and numbers\n",
    "devset = hyphen_seperation(devset,w2v) #Address hyphen separated words\n",
    "devset = word_stemming(devset,w2v) #Porter Stemmer\n",
    "devset = remove_stop_words(devset) #Remove stop words\n",
    "abs_w2v, abs_w2v_lower = get_words_not_in_model(devset, w2v)\n",
    "print(len(abs_w2v), len(abs_w2v_lower))\n",
    "\n",
    "#Test set transformation\n",
    "testset = remove_punc_num_special(testset) #Remove punctuation, special characters and numbers\n",
    "testset = hyphen_seperation(testset,w2v) #Address hyphen separated words\n",
    "testset = word_stemming(testset,w2v) #Porter Stemmer\n",
    "testset = remove_stop_words(testset) #Remove stop words\n",
    "abs_w2v, abs_w2v_lower = get_words_not_in_model(testset, w2v)\n",
    "print(len(abs_w2v), len(abs_w2v_lower))\n"
   ]
  },
  {
   "cell_type": "markdown",
   "metadata": {
    "id": "HS065tylI-VC"
   },
   "source": [
    "# Map all words to embeddings"
   ]
  },
  {
   "cell_type": "code",
   "execution_count": null,
   "metadata": {
    "colab": {
     "base_uri": "https://localhost:8080/"
    },
    "id": "OAeEsfWsY_qO",
    "outputId": "1cb9bf34-7754-4a88-ca87-e810fe46c769"
   },
   "outputs": [
    {
     "name": "stdout",
     "output_type": "stream",
     "text": [
      "3000000\n"
     ]
    }
   ],
   "source": [
    "w2v_size = len(w2v)\n",
    "print(w2v_size)"
   ]
  },
  {
   "cell_type": "code",
   "execution_count": null,
   "metadata": {
    "id": "idpxpZxJYvH3"
   },
   "outputs": [],
   "source": [
    "w2v_size = len(w2v)\n",
    "\n",
    "w2v['<UNK>']=np.zeros(300)\n",
    "\n",
    "\n",
    "\n",
    "word_to_ix = {\"<PAD>\":w2v_size,\"<UNK>\":w2v_size}\n",
    "tag_to_ix = {\"<PAD>\": 0, \"O\": 1, \"B-MISC\": 2, \"B-LOC\": 3, \"I-MISC\": 4, \"I-LOC\": 5, \"B-ORG\": 6, \"I-PER\": 7, \"I-ORG\": 8}\n",
    "\n",
    "#Map each word to a metric embedding\n",
    "for sentence in fullset:\n",
    "    for word,tag in sentence:\n",
    "        if word in w2v.key_to_index:\n",
    "            word_to_ix[word]=w2v.key_to_index[word]\n",
    "        elif word.lower() in w2v.key_to_index:\n",
    "            word_to_ix[word]=w2v.key_to_index[word.lower()]\n",
    "        else:\n",
    "            word_to_ix[word]=w2v.key_to_index['<UNK>']\n"
   ]
  },
  {
   "cell_type": "code",
   "execution_count": null,
   "metadata": {
    "id": "XowOgC3dMU7f"
   },
   "outputs": [],
   "source": [
    "sentences, labels = separate_words_tags(trainset) # separate words and tags\n",
    "train_data = NERDataset(sentences, labels, word_to_ix, tag_to_ix)\n",
    "\n",
    "sentences, labels = separate_words_tags(devset)\n",
    "dev_data = NERDataset(sentences, labels, word_to_ix, tag_to_ix)\n",
    "\n",
    "sentences, labels = separate_words_tags(testset)\n",
    "test_data = NERDataset(sentences, labels, word_to_ix, tag_to_ix)\n",
    "\n",
    "# Creating DataLoader ; pad_collate function pads sentences to the length of the longest sentence in the batch\n",
    "batch_size = 16\n",
    "\n",
    "train_loader = DataLoader(train_data, batch_size=batch_size, shuffle=True, collate_fn=pad_collate)\n",
    "dev_loader = DataLoader(dev_data, batch_size=batch_size, shuffle=True, collate_fn=pad_collate)\n",
    "test_loader = DataLoader(test_data, batch_size=batch_size, shuffle=False, collate_fn=pad_collate)\n"
   ]
  },
  {
   "cell_type": "markdown",
   "metadata": {
    "id": "5J96jCHip-pD"
   },
   "source": []
  },
  {
   "cell_type": "markdown",
   "metadata": {
    "id": "poTFRhXbfLKd"
   },
   "source": [
    "# Long Short Term Memory"
   ]
  },
  {
   "cell_type": "code",
   "execution_count": null,
   "metadata": {
    "id": "ZqMIgIg1j1g2"
   },
   "outputs": [],
   "source": [
    "import torch\n",
    "from torch.utils.data import Dataset, DataLoader, TensorDataset\n",
    "from tqdm import tqdm\n",
    "import time\n",
    "import os\n",
    "import random\n",
    "import numpy as np\n",
    "import string\n",
    "\n"
   ]
  },
  {
   "cell_type": "code",
   "execution_count": null,
   "metadata": {
    "colab": {
     "base_uri": "https://localhost:8080/"
    },
    "id": "amY4ufLSMjD-",
    "outputId": "e5b054c8-d526-4113-ce2a-8139eba99502"
   },
   "outputs": [
    {
     "name": "stdout",
     "output_type": "stream",
     "text": [
      "Requirement already satisfied: seqeval in /usr/local/lib/python3.10/dist-packages (1.2.2)\n",
      "Requirement already satisfied: numpy>=1.14.0 in /usr/local/lib/python3.10/dist-packages (from seqeval) (1.23.5)\n",
      "Requirement already satisfied: scikit-learn>=0.21.3 in /usr/local/lib/python3.10/dist-packages (from seqeval) (1.2.2)\n",
      "Requirement already satisfied: scipy>=1.3.2 in /usr/local/lib/python3.10/dist-packages (from scikit-learn>=0.21.3->seqeval) (1.11.3)\n",
      "Requirement already satisfied: joblib>=1.1.1 in /usr/local/lib/python3.10/dist-packages (from scikit-learn>=0.21.3->seqeval) (1.3.2)\n",
      "Requirement already satisfied: threadpoolctl>=2.0.0 in /usr/local/lib/python3.10/dist-packages (from scikit-learn>=0.21.3->seqeval) (3.2.0)\n"
     ]
    }
   ],
   "source": [
    "!pip install seqeval"
   ]
  },
  {
   "cell_type": "code",
   "execution_count": null,
   "metadata": {
    "id": "ty4Sa14eHZqC"
   },
   "outputs": [],
   "source": [
    "\n",
    "\n",
    "\n",
    "\n",
    "\n",
    "# early stopping obtained from tutorial\n",
    "class EarlyStopper:\n",
    "    def __init__(self, patience=3, min_delta=0):\n",
    "        self.patience = patience # how many epochs to wait before stopping when loss is no longer decreasing\n",
    "        self.min_delta = min_delta # minimum difference between new loss and old loss to be considered as a decrease in loss\n",
    "        self.counter = 0 # number of epochs since loss was last decreased\n",
    "        self.min_validation_loss = np.inf # minimum validation loss achieved so far\n",
    "\n",
    "    def early_stop(self, validation_loss):\n",
    "        if validation_loss < self.min_validation_loss: # new loss is lower than old loss\n",
    "            self.min_validation_loss = validation_loss # update minimum loss\n",
    "            self.counter = 0 # reset counter\n",
    "        elif validation_loss > (self.min_validation_loss + self.min_delta): # new loss is higher than old loss + minimum difference\n",
    "            self.counter += 1 # increase counter\n",
    "            if self.counter >= self.patience:\n",
    "                return True # stop training\n",
    "        return False # continue training\n",
    "\n",
    "\n",
    "# set random seed\n",
    "def set_seed(seed = 0):\n",
    "    '''\n",
    "    set random seed\n",
    "    '''\n",
    "    random.seed(seed)\n",
    "    torch.manual_seed(seed)\n",
    "    np.random.seed(seed)\n",
    "    torch.cuda.manual_seed_all(seed)\n",
    "    torch.backends.cudnn.deterministic = True\n",
    "\n",
    "\n",
    "# Train step\n",
    "def train_step(model, trainloader, optimizer, device, lossfn):\n",
    "    model.train()  # set model to training mode\n",
    "    total_loss = 0.0\n",
    "\n",
    "    # Iterate over the training data\n",
    "    for i, data in trainloader:\n",
    "        inputs, labels, _ = data  # get the inputs and labels\n",
    "        inputs, labels = inputs.to(device), labels.to(device)  # move them to the device\n",
    "\n",
    "        optimizer.zero_grad()  # zero the gradients\n",
    "\n",
    "        # Forward pass\n",
    "        outputs = model(inputs)\n",
    "        loss = lossfn(outputs, labels)\n",
    "\n",
    "        # Backward pass and optimisation\n",
    "        loss.backward()\n",
    "        optimizer.step()\n",
    "\n",
    "        total_loss += loss.item()  # accumulate the loss\n",
    "        trainloader.set_postfix({'Training loss': '{:.4f}'.format(total_loss/(i+1))})  # Update the progress bar with the training loss\n",
    "\n",
    "    train_loss = total_loss / len(trainloader)\n",
    "    return train_loss\n",
    "\n",
    "\n",
    "\n",
    "# Test step\n",
    "def val_step(model, valloader, lossfn, device):\n",
    "    from seqeval.metrics import f1_score\n",
    "    idx_to_tag = {1:\"O\",2: \"B-MISC\",3: \"B-LOC\",4: \"I-MISC\",5: \"I-LOC\",6: \"B-ORG\",7: \"I-PER\",8: \"I-ORG\"}\n",
    "    model.eval() # set model to evaluation mode\n",
    "    total_loss = 0.0\n",
    "    correct = 0\n",
    "    total_words = 0\n",
    "    all_batch_preds = []  # List to store batch predictions\n",
    "    all_batch_labels = []  # List to store batch labels\n",
    "\n",
    "    with torch.no_grad(): # disable gradient calculation\n",
    "        for data in valloader:\n",
    "            inputs, labels, lens = data # get the inputs and labels and actual lengths\n",
    "            inputs, labels = inputs.to(device), labels.to(device) # move them to the device\n",
    "\n",
    "            # Forward pass\n",
    "            outputs = model(inputs)\n",
    "            loss = lossfn(outputs, labels)\n",
    "\n",
    "            total_loss += loss.item()\n",
    "\n",
    "            # Get the index of the max log-probability along the tagset_size dimension\n",
    "            _, predicted = torch.max(outputs.permute(0, 2, 1), 2)\n",
    "\n",
    "            batch_preds = []\n",
    "            batch_labels = []\n",
    "\n",
    "            batch_preds_acc = []\n",
    "            batch_labels_acc = []\n",
    "\n",
    "            for i in range(len(lens)):\n",
    "                batch_preds.append([idx_to_tag[int(word)] for word in predicted[i, :lens[i]]])  # Append predictions but only up to the actual length of the sentence\n",
    "                batch_labels.append([idx_to_tag[int(word)] for word in labels[i, :lens[i]]])\n",
    "\n",
    "                batch_preds_acc.extend(predicted[i, :lens[i]].cpu().numpy())  # Append predictions but only up to the actual length of the sentence\n",
    "                batch_labels_acc.extend(labels[i, :lens[i]].cpu().numpy())\n",
    "\n",
    "            correct += sum(p == l for p, l in zip(batch_preds_acc, batch_labels_acc))  # Accumulate correct predictions for this batch\n",
    "            total_words += sum(lens)  # Accumulate the actual sentence lengths for this batch\n",
    "\n",
    "            all_batch_preds.extend(batch_preds)  # Append batch predictions to the list\n",
    "            all_batch_labels.extend(batch_labels)  # Append batch labels to the list\n",
    "\n",
    "    val_loss = total_loss / len(valloader)\n",
    "    accuracy = 100 * correct / total_words\n",
    "    f1 = f1_score(all_batch_labels, all_batch_preds,average='macro')\n",
    "\n",
    "    return val_loss, accuracy, f1\n",
    "\n",
    "\n",
    "\n",
    "\n",
    "# Save model\n",
    "def save_model(model, path):\n",
    "    torch.save(model.state_dict(), path)\n",
    "\n",
    "\n",
    "# Training loop\n",
    "def train(model, tl, vl, opt, loss, device, epochs, early_stopper, path):\n",
    "    train_loss_list = []\n",
    "    val_loss_list = []\n",
    "    val_acc_list = []\n",
    "    f1_list = []\n",
    "\n",
    "    for epoch in range(epochs):  # loop over the dataset multiple times\n",
    "        start_time = time.time()  # Record the start time of the epoch\n",
    "\n",
    "        # Wrap the trainloader with tqdm for the progress bar\n",
    "        pbar = tqdm(enumerate(tl), total=len(tl), desc=f\"Epoch {epoch+1}/{epochs}\")\n",
    "\n",
    "        train_loss = train_step(model, pbar, opt, device, loss)  # Pass the tqdm-wrapped loader\n",
    "        val_loss,val_acc, F1 = val_step(model, vl, loss, device)\n",
    "\n",
    "        train_loss_list.append(train_loss)\n",
    "        val_loss_list.append(val_loss)\n",
    "        val_acc_list.append(val_acc)\n",
    "        f1_list.append(F1)\n",
    "\n",
    "        # Print time taken for epoch\n",
    "        end_time = time.time()\n",
    "        elapsed_time = end_time - start_time\n",
    "\n",
    "        print(f'Epoch {epoch+1}/{epochs} took {elapsed_time:.2f}s | Train loss: {train_loss:.4f} | Val loss: {val_loss:.4f} | Val accuracy: {val_acc:.2f}% | F1: {F1:.4f} | EarlyStopper count: {early_stopper.counter}')\n",
    "\n",
    "        # save as last_model after every epoch\n",
    "        save_model(model, os.path.join(path, 'last_model.pt'))\n",
    "\n",
    "        # save as best_model if validation loss is lower than previous best validation loss\n",
    "        if val_loss < early_stopper.min_validation_loss:\n",
    "            save_model(model, os.path.join(path, 'best_model.pt'))\n",
    "\n",
    "        if early_stopper.early_stop(val_loss):\n",
    "            print('Early stopping')\n",
    "            break\n",
    "\n",
    "    return train_loss_list, val_loss_list, val_acc_list, f1_list\n",
    "\n",
    "\n",
    "\n",
    "\n",
    "# word_embeddings = nn.Embedding.from_pretrained(torch.FloatTensor(w2v.vectors), freeze=False)\n",
    "# word_embeddings(torch.LongTensor([w2v.key_to_index['<UNK>']]))"
   ]
  },
  {
   "cell_type": "markdown",
   "metadata": {
    "id": "NSqmeMrfHu63"
   },
   "source": [
    "# Defining Model\n"
   ]
  },
  {
   "cell_type": "code",
   "execution_count": null,
   "metadata": {
    "id": "9PZCf7IwHwq2"
   },
   "outputs": [],
   "source": [
    "import torch\n",
    "import torch.nn as nn\n",
    "import torch.optim as optim\n",
    "import torch.nn.functional as F\n",
    "\n",
    "# LSTM Model\n",
    "class NERModel(nn.Module):\n",
    "    def __init__(self, embedding_dim, hidden_dim, vocab_size, tagset_size, weights_matrix=None, freeze_weights=True):\n",
    "        super(NERModel, self).__init__()\n",
    "\n",
    "        self.hidden_dim = hidden_dim\n",
    "\n",
    "        if weights_matrix is not None:\n",
    "            self.word_embeddings = nn.Embedding.from_pretrained(weights_matrix, freeze=freeze_weights)\n",
    "            # initialize word embeddings with pretrained weights and freeze them\n",
    "        else:\n",
    "            self.word_embeddings = nn.Embedding(vocab_size, embedding_dim)\n",
    "\n",
    "        self.lstm = nn.LSTM(embedding_dim, hidden_dim, batch_first=True,bidirectional=True)\n",
    "\n",
    "        self.dropout = nn.Dropout(0.5)\n",
    "\n",
    "        self.hidden2tag = nn.Linear(hidden_dim, tagset_size)\n",
    "        # Linear layer maps from hidden state space to tag space\n",
    "\n",
    "\n",
    "    def forward(self, sentences):\n",
    "        '''\n",
    "        sentences: batch_size x max_seq_length\n",
    "        tag_space: batch_size x tagset_size x max_seq_length\n",
    "        '''\n",
    "        embeds = self.word_embeddings(sentences) # Embed the input sentence\n",
    "\n",
    "        # LSTM input shape: batch_size x max_seq_length x embedding_dim\n",
    "        lstm_out, _ = self.lstm(embeds)\n",
    "\n",
    "        # LSTM output shape: batch_size x max_seq_length x hidden_dim\n",
    "        # reshape it for the linear layer\n",
    "        lstm_out = lstm_out.contiguous().view(-1, self.hidden_dim)\n",
    "        # shape: (batch_size * max_seq_length) x hidden_dim\n",
    "\n",
    "        lstm_out=self.dropout(lstm_out)\n",
    "\n",
    "        tag_space = self.hidden2tag(lstm_out)\n",
    "\n",
    "        # reshape back to batch_size x max_seq_length x tagset_size\n",
    "        tag_space = tag_space.contiguous().view(sentences.shape[0], sentences.shape[1], -1)\n",
    "\n",
    "        # swap dimensions to make it batch_size x tagset_size x max_seq_length\n",
    "        tag_space = tag_space.permute(0, 2, 1)\n",
    "\n",
    "        return tag_space # Return output"
   ]
  },
  {
   "cell_type": "markdown",
   "metadata": {
    "id": "YFjKEQB5Fa78"
   },
   "source": [
    "# Training"
   ]
  },
  {
   "cell_type": "code",
   "execution_count": null,
   "metadata": {
    "id": "81K1SYvRFcE5"
   },
   "outputs": [],
   "source": [
    "embedding_dim = 300\n",
    "hidden_dim = 1024\n",
    "vocab_size = len(word_to_ix)\n",
    "tagset_size = len(tag_to_ix)\n",
    "weights_matrix = torch.FloatTensor(w2v.vectors)\n",
    "\n",
    "\n",
    "model = NERModel(embedding_dim=embedding_dim, hidden_dim=hidden_dim, vocab_size=vocab_size, tagset_size=tagset_size, weights_matrix=weights_matrix)"
   ]
  },
  {
   "cell_type": "code",
   "execution_count": null,
   "metadata": {
    "id": "ZcnUbsqKG6mW"
   },
   "outputs": [],
   "source": [
    "lr = 0.001\n",
    "optimiser = torch.optim.Adam(model.parameters(), lr=lr)\n",
    "loss = torch.nn.CrossEntropyLoss(ignore_index=0 )\n",
    "\n",
    "\n",
    "device = torch.device(\"cuda\") if torch.cuda.is_available() else torch.device(\"cpu\")\n",
    "model.to(device)\n",
    "\n",
    "epochs = 5 # number of epochs\n",
    "early_stopper = EarlyStopper(patience=2) # initialise early stopper\n",
    "\n",
    "# Make directory to save baseline model\n",
    "model_path = \"../saved_models/\"\n",
    "if not os.path.exists(model_path):\n",
    "    os.makedirs(model_path, exist_ok=True)\n",
    "\n",
    "# Define the device-specific path\n",
    "device_type = None\n",
    "if device == torch.device(\"cuda\"):\n",
    "    device_type = \"cuda\"\n",
    "elif device == torch.device(\"mps\"):\n",
    "    device_type = \"mps\"\n",
    "else:\n",
    "    device_type = \"cpu\"\n",
    "\n",
    "# Construct the full path\n",
    "device_path = os.path.join(model_path, device_type)\n",
    "\n",
    "# Create the directory if it doesn't exist\n",
    "if not os.path.exists(device_path):\n",
    "    os.mkdir(device_path)"
   ]
  },
  {
   "cell_type": "code",
   "execution_count": null,
   "metadata": {
    "colab": {
     "base_uri": "https://localhost:8080/"
    },
    "id": "TaB47BRJJsjw",
    "outputId": "f851eacd-0345-4587-874d-807763b156b5"
   },
   "outputs": [
    {
     "name": "stderr",
     "output_type": "stream",
     "text": [
      "Epoch 1/5: 100%|██████████| 937/937 [00:10<00:00, 88.04it/s, Training loss=0.2480]\n"
     ]
    },
    {
     "name": "stdout",
     "output_type": "stream",
     "text": [
      "Epoch 1/5 took 13.13s | Train loss: 0.2480 | Val loss: 0.1391 | Val accuracy: 95.52% | F1: 0.7267 | EarlyStopper count: 0\n"
     ]
    },
    {
     "name": "stderr",
     "output_type": "stream",
     "text": [
      "Epoch 2/5: 100%|██████████| 937/937 [00:10<00:00, 88.33it/s, Training loss=0.1304]\n"
     ]
    },
    {
     "name": "stdout",
     "output_type": "stream",
     "text": [
      "Epoch 2/5 took 12.99s | Train loss: 0.1304 | Val loss: 0.1237 | Val accuracy: 96.14% | F1: 0.7661 | EarlyStopper count: 0\n"
     ]
    },
    {
     "name": "stderr",
     "output_type": "stream",
     "text": [
      "Epoch 3/5: 100%|██████████| 937/937 [00:10<00:00, 89.40it/s, Training loss=0.1087]\n"
     ]
    },
    {
     "name": "stdout",
     "output_type": "stream",
     "text": [
      "Epoch 3/5 took 12.83s | Train loss: 0.1087 | Val loss: 0.1222 | Val accuracy: 96.23% | F1: 0.7726 | EarlyStopper count: 0\n"
     ]
    },
    {
     "name": "stderr",
     "output_type": "stream",
     "text": [
      "Epoch 4/5: 100%|██████████| 937/937 [00:10<00:00, 88.87it/s, Training loss=0.0903]\n"
     ]
    },
    {
     "name": "stdout",
     "output_type": "stream",
     "text": [
      "Epoch 4/5 took 12.98s | Train loss: 0.0903 | Val loss: 0.1100 | Val accuracy: 96.61% | F1: 0.7968 | EarlyStopper count: 0\n"
     ]
    },
    {
     "name": "stderr",
     "output_type": "stream",
     "text": [
      "Epoch 5/5: 100%|██████████| 937/937 [00:10<00:00, 88.35it/s, Training loss=0.0784]\n"
     ]
    },
    {
     "name": "stdout",
     "output_type": "stream",
     "text": [
      "Epoch 5/5 took 12.98s | Train loss: 0.0784 | Val loss: 0.1089 | Val accuracy: 96.68% | F1: 0.7939 | EarlyStopper count: 0\n"
     ]
    }
   ],
   "source": [
    "train_loss_list, val_loss_list, val_acc_list, f1_list = train(model, train_loader, dev_loader, optimiser, loss, device, epochs, early_stopper, device_path) # train model"
   ]
  },
  {
   "cell_type": "code",
   "execution_count": null,
   "metadata": {
    "colab": {
     "base_uri": "https://localhost:8080/",
     "height": 449
    },
    "id": "dVS3i_7rJsoT",
    "outputId": "461489cc-f3dc-45e6-8ea0-f016b18828e8"
   },
   "outputs": [
    {
     "data": {
      "image/png": "[encoded data removed]",
      "text/plain": [
       "<Figure size 640x480 with 1 Axes>"
      ]
     },
     "metadata": {},
     "output_type": "display_data"
    }
   ],
   "source": [
    "import matplotlib.pyplot as plt\n",
    "\n",
    "epoch_range = [i for i in range(1,epochs+1)]\n",
    "# plot training and validation loss, and f1 score\n",
    "plt.plot(epoch_range,train_loss_list, label='Training loss')\n",
    "plt.plot(epoch_range,val_loss_list, label='Validation loss')\n",
    "plt.plot(epoch_range,f1_list, label='F1 score')\n",
    "plt.xlabel('Epochs')\n",
    "plt.legend()\n",
    "plt.show()"
   ]
  },
  {
   "cell_type": "code",
   "execution_count": null,
   "metadata": {
    "id": "PrswPMJts89a"
   },
   "outputs": [],
   "source": [
    "# Test step\n",
    "\n",
    "\n",
    "from seqeval.metrics import f1_score\n",
    "idx_to_tag = {\n",
    "1:\"O\",\n",
    "2: \"B-MISC\",\n",
    "3: \"B-LOC\",\n",
    "4: \"I-MISC\",\n",
    "5: \"I-LOC\",\n",
    "6: \"B-ORG\",\n",
    "7: \"I-PER\",\n",
    "8: \"I-ORG\"\n",
    "}\n",
    "model.eval() # set model to evaluation mode\n",
    "correct = 0\n",
    "total_words = 0\n",
    "all_batch_preds = []  # List to store batch predictions\n",
    "all_batch_labels = []  # List to store batch labels\n",
    "\n",
    "with torch.no_grad(): # disable gradient calculation\n",
    "    for data in test_loader:\n",
    "        inputs, labels, lens = data # get the inputs and labels and actual lengths\n",
    "        inputs, labels = inputs.to(device), labels.to(device) # move them to the device\n",
    "\n",
    "        # Forward pass\n",
    "        outputs = model(inputs)\n",
    "\n",
    "        # Get the index of the max log-probability along the tagset_size dimension\n",
    "        _, predicted = torch.max(outputs.permute(0, 2, 1), 2)\n",
    "\n",
    "        batch_preds = []\n",
    "        batch_labels = []\n",
    "\n",
    "        batch_preds_acc = []\n",
    "        batch_labels_acc = []\n",
    "\n",
    "        for i in range(len(lens)):\n",
    "            batch_preds.append([idx_to_tag[int(word)] for word in predicted[i, :lens[i]]])  # Append predictions but only up to the actual length of the sentence\n",
    "            batch_labels.append([idx_to_tag[int(word)] for word in labels[i, :lens[i]]])\n",
    "\n",
    "            batch_preds_acc.extend(predicted[i, :lens[i]].cpu().numpy())  # Append predictions but only up to the actual length of the sentence\n",
    "            batch_labels_acc.extend(labels[i, :lens[i]].cpu().numpy())\n",
    "\n",
    "\n",
    "\n",
    "        correct += sum(p == l for p, l in zip(batch_preds_acc, batch_labels_acc))  # Accumulate correct predictions for this batch\n",
    "        total_words += sum(lens)  # Accumulate the actual sentence lengths for this batch\n",
    "\n",
    "        all_batch_preds.extend(batch_preds)  # Append batch predictions to the list\n",
    "        all_batch_labels.extend(batch_labels)  # Append batch labels to the list\n",
    "\n",
    "accuracy = 100 * correct / total_words\n",
    "f1 = f1_score(all_batch_labels, all_batch_preds,average='macro')\n",
    "\n",
    "\n"
   ]
  },
  {
   "cell_type": "code",
   "execution_count": null,
   "metadata": {
    "colab": {
     "base_uri": "https://localhost:8080/"
    },
    "id": "5YsvMrlSt_N8",
    "outputId": "e8d097ef-2881-45b9-b828-a3fbd9de5a61"
   },
   "outputs": [
    {
     "name": "stdout",
     "output_type": "stream",
     "text": [
      "Accuracy:  94.36%, F1 Score:  0.73\n"
     ]
    }
   ],
   "source": [
    "print(f'Accuracy: {accuracy: .2f}%, F1 Score: {f1: .2f}')"
   ]
  }
 ],
 "metadata": {
  "accelerator": "GPU",
  "colab": {
   "gpuType": "T4",
   "machine_shape": "hm",
   "provenance": []
  },
  "kernelspec": {
   "display_name": "Python 3 (ipykernel)",
   "language": "python",
   "name": "python3"
  },
  "language_info": {
   "codemirror_mode": {
    "name": "ipython",
    "version": 3
   },
   "file_extension": ".py",
   "mimetype": "text/x-python",
   "name": "python",
   "nbconvert_exporter": "python",
   "pygments_lexer": "ipython3",
   "version": "3.10.12"
  }
 },
 "nbformat": 4,
 "nbformat_minor": 4
}
